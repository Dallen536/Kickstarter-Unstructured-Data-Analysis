{
  "nbformat": 4,
  "nbformat_minor": 0,
  "metadata": {
    "colab": {
      "provenance": []
    },
    "kernelspec": {
      "name": "python3",
      "display_name": "Python 3"
    },
    "language_info": {
      "name": "python"
    }
  },
  "cells": [
    {
      "cell_type": "markdown",
      "source": [
        "# Setup Cluster and S3\n",
        "\n"
      ],
      "metadata": {
        "id": "5hQ8VJarw14g"
      }
    },
    {
      "cell_type": "markdown",
      "source": [
        "## Accessing the Cluster"
      ],
      "metadata": {
        "id": "Hjl_CcfD1Bz5"
      }
    },
    {
      "cell_type": "code",
      "source": [
        "#1 - Open Windows Terminal\n",
        "#2 Change Directory to the path of the folders on your local machine that contain the ppk and pem filed needed to acces to cluster\n",
        "cd C:\\Users\\Owner\\OneDrive\\msbx5420\\project"
      ],
      "metadata": {
        "id": "kS1w9fdQw8mO"
      },
      "execution_count": null,
      "outputs": []
    },
    {
      "cell_type": "code",
      "source": [
        "#3 Run the code below to access the cluster, we are using cluster 1 currently\n",
        "\n",
        "ssh -i MSBX5420-SPR22.pem hadoop@ec2-34-220-138-138.us-west-2.compute.amazonaws.com\n"
      ],
      "metadata": {
        "id": "il5WS03sw8oy"
      },
      "execution_count": null,
      "outputs": []
    },
    {
      "cell_type": "code",
      "source": [
        "#4 verify our group has been created you can follow these steps\n",
        "    # I used the command mkdir group9 to make our group9 directory\n",
        "cd /mnt1/msbx5420_teams\n",
        "\n",
        "#5 use ls to see a list of directories, you should see our group9 directory\n",
        "ls\n",
        "\n",
        "#6 to access our directory use the code below\n",
        "cd group9\n",
        "\n",
        "#7 use ls to see the files in our directory. Currently only the data csv\n",
        " ls"
      ],
      "metadata": {
        "id": "i0c5Ji1Zw8rh"
      },
      "execution_count": null,
      "outputs": []
    },
    {
      "cell_type": "markdown",
      "source": [
        "## Connecting to jupyterhub"
      ],
      "metadata": {
        "id": "D93kHcjCwwpY"
      }
    },
    {
      "cell_type": "code",
      "source": [
        "#8 Open new window terminal & go back into your personal directory from step 1/2\n",
        "cd C:\\Users\\Owner\\OneDrive\\msbx5420\\project\n",
        "\n",
        "#9 in that window enter the code below to copy a file to the hadoop cluster folder under our group9 directory \n",
        "scp -i MSBX5420-SPR22.pem ks-projects-201801.csv hadoop@ec2-34-220-138-138.us-west-2.compute.amazonaws.com:/mnt1/msbx5420_teams/group9 # the original \n",
        "scp -i MSBX5420-SPR22.pem ks-projects-201801-edited.csv hadoop@ec2-34-220-138-138.us-west-2.compute.amazonaws.com:/mnt1/msbx5420_teams/group9  # the edited file to remove the commas from the name column\n",
        "scp -i MSBX5420-SPR22.pem ks-projects-201801-edited2.csv hadoop@ec2-34-220-138-138.us-west-2.compute.amazonaws.com:/mnt1/msbx5420_teams/group9  # the edited file to remove the commas from the name column\n",
        "\n",
        "#10 also in that window,use the code below to access jupyterhub\n",
        "    # when you run this you will not see any response in your window terminal just continue with the steps\n",
        "ssh -i MSBX5420-SPR22.pem -N -L localhost:8890:localhost:9443 hadoop@ec2-34-220-138-138.us-west-2.compute.amazonaws.com"
      ],
      "metadata": {
        "id": "hXnp0bUCyGVH"
      },
      "execution_count": null,
      "outputs": []
    },
    {
      "cell_type": "markdown",
      "source": [
        "## Creating the user id and password\n",
        "You should not need to complete this step, I just wanted to share the code"
      ],
      "metadata": {
        "id": "OOSUG7QFwwsP"
      }
    },
    {
      "cell_type": "code",
      "source": [
        "#11 Access the AWS cluster window terminal \n",
        "#12 Create username\n",
        "\tsudo docker exec jupyterhub useradd -m -s /bin/bash -N group9\n",
        "\n",
        "#13 Create password\n",
        "\tsudo docker exec jupyterhub bash -c \"echo group9:group9 | chpasswd\""
      ],
      "metadata": {
        "id": "6wOQQUqky-y7"
      },
      "execution_count": null,
      "outputs": []
    },
    {
      "cell_type": "markdown",
      "source": [
        "## Open Jupyterhub\n",
        "\n",
        "\n"
      ],
      "metadata": {
        "id": "p87yy-m3zqD-"
      }
    },
    {
      "cell_type": "markdown",
      "source": [
        "When accessing https://localhost:8890/ and you see security warning, click “Advanced” or “Details” to continue and bypass it. If you are using MacOS Catalina with Chrome, blindly type thisisunsafe in the page and press enter to bypass it."
      ],
      "metadata": {
        "id": "oIaA9T6Wz_9P"
      }
    },
    {
      "cell_type": "code",
      "source": [
        "#14 In an browser window copy and paste https://localhost:8890/\n",
        "#15 When juypyter hub opens enter user name and password\n",
        "\tusername group9 \n",
        "\tpassword group9"
      ],
      "metadata": {
        "id": "OeXNiyLly-1M"
      },
      "execution_count": null,
      "outputs": []
    },
    {
      "cell_type": "markdown",
      "source": [
        "## Uploading to S3"
      ],
      "metadata": {
        "id": "rX3yomEg0bna"
      }
    },
    {
      "cell_type": "code",
      "source": [
        "#Go back to the AWS cluster window terminal \n",
        "#enter the following commands to upload the file to S3, just replace the file name with new file\n",
        "aws s3 ls s3://msbx5420-spr22\n",
        "aws s3 ls s3://msbx5420-spr22/group9/\n",
        "aws s3 cp /mnt1/msbx5420_teams/group9/ks-projects-201801-edited2.csv s3://msbx5420-spr22/group9/"
      ],
      "metadata": {
        "id": "1Vv4LTooy-3F"
      },
      "execution_count": null,
      "outputs": []
    },
    {
      "cell_type": "markdown",
      "source": [
        "# Accesing our jupyter hub\n",
        "\n",
        "These should be the steps you take to access our jupyter hub. you should not have to run through all of the above steps. "
      ],
      "metadata": {
        "id": "346CauGK3LUl"
      }
    },
    {
      "cell_type": "code",
      "source": [
        "#1 Change Directory to the path of the folders on your local machine that contain the ppk and pem filed needed \n",
        "cd C:\\Users\\Owner\\OneDrive\\msbx5420\\project"
      ],
      "metadata": {
        "id": "Dl6N8Axe1OuU"
      },
      "execution_count": null,
      "outputs": []
    },
    {
      "cell_type": "code",
      "source": [
        "#2 Run the code below to access the cluster, we are using cluster 1 currently\n",
        "    # you may or may not need to access the cluster yourself prior to running the jupyterhub code\n",
        "ssh -i MSBX5420-SPR22.pem hadoop@ec2-34-220-138-138.us-west-2.compute.amazonaws.com"
      ],
      "metadata": {
        "id": "9y5JRmav1Ow2"
      },
      "execution_count": null,
      "outputs": []
    },
    {
      "cell_type": "code",
      "source": [
        "  # if you accessed the Cluster you will need to open a new Window Terminal for the next steps\n",
        "#3 Open new window terminal & go back into your personal directory from step 1/2\n",
        "cd C:\\Users\\Owner\\OneDrive\\msbx5420\\project\n",
        "\n",
        "#4 also in that window,use the code below to access jupyterhub\n",
        "    # when you run this you will not see any response in your window terminal just continue with the steps\n",
        "ssh -i MSBX5420-SPR22.pem -N -L localhost:8890:localhost:9443 hadoop@ec2-34-220-138-138.us-west-2.compute.amazonaws.com"
      ],
      "metadata": {
        "id": "rG7cRKfa1Oz5"
      },
      "execution_count": null,
      "outputs": []
    },
    {
      "cell_type": "code",
      "source": [
        "#5 In an browser window copy and paste https://localhost:8890/\n",
        "#6 When juypyter hub opens enter user name and password\n",
        "\tusername group9 \n",
        "\tpassword group9\n",
        "\n",
        "# you should see a notebook called Project Notebook where I have loaded the data"
      ],
      "metadata": {
        "id": "SfuuZaqd4SJE"
      },
      "execution_count": null,
      "outputs": []
    }
  ]
}